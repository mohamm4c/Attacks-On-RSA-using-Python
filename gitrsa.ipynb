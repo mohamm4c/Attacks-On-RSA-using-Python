{
 "cells": [
  {
   "cell_type": "markdown",
   "metadata": {},
   "source": [
    "# Basic principles of Cryptography\n",
    "\n",
    "## 1. Objectives of adversary:\n",
    "\n",
    "   - The objective of the attacker/adversary is to attack an encryption scheme and to recover plaintext from ciphertext which was intended for someone else(say A).\n",
    "   - An encryption scheme is said to be formally broken when the attacker can successfully intercept the ciphertext and recover plain text from it. \n",
    "   - A more lucrative objective for the adversary is to recover the private key of A. If the adversary recovers A's private key, then the adversary has the ability to decrypt all ciphertext sent to A. In such a case the encryption scheme is said to be informally broken. \n",
    "   \n",
    "## 2. Types of attacks:\n",
    "\n",
    "Since the encryption schemes are public in nature , an attacker can either do one of the following:\n",
    "1. In the first case, the attacker may mount a chosen-plaintext attack (plain text chosen by the adversary) on a public-key encryption scheme i.e., the attacker may encrypt arbitrary messages to obtain the corresponding cipher-texts. \n",
    "2. In the second case, often referred to as chosen cipher-text attack, the attacker chooses the ciphertext before hand and obtains by some means the corresponding plain-text i.e., the attacker may encrypt as well as decrypt arbitrary messages.<br><br>\n",
    "Chosen ciphertext attacks are further classified into two:  \n",
    "- Indifferent chosen-ciphertext attack:\n",
    "Before the adversary is provided with the decryption of target ciphertext $c$ ,that it actually wishes to decrypt, it is provided with decryptions of any ciphertexts of their choice.\n",
    "- Adaptive chosen-ciphertext attack:\n",
    "In this attack, the adversary does not have access to the private key of A and may have access to the decryption machine of A. The adversary can  request decryptions of ciphertext which may be related to both the target ciphertext, and to the decryptions obtained from previous queries but cannot request decryption of the target ciphertext $c$.\n",
    "\n",
    "Chosen-ciphertext attacks are of concern only if the attacks can be mounted on the encryption scheme, if not then the existence of a chosen-ciphertext attack is typically viewed as a certificational weakness against a particular scheme.\n",
    "## 3. Distributing public keys\n",
    "\n",
    "- The puclic key encryption schemes are not bothered about the distribution of the public keys but rather assumes that a mechanism for the transportation of the public key exists. In the absence of such a mechanism, the encryption scheme is susceptible to an impersonation attack.\n",
    "- There are many techniques in practice by which authentic public keys can be distributed. A few of them are listed below:\n",
    "    1. Exchanging keys over a trusted channel\n",
    "    2. Using a trusted public file\n",
    "    3. Using an on-line trusted server\n",
    "    4. Using an off-line server and certificates.   \n",
    "    <br>\n",
    "    \n",
    "## 4. Message blocking\n",
    "\n",
    "- Some Public key encryption schems assume that the message to be encrypted is of a fixed size or fixed length(bit length). \n",
    "- Plaintext messages which are longer than this maximum must be broken into blocks, each of the appropriate size. This is called as message blocking. The blocks of the message can then be encrypted independently adn hence must be decrypted the same as well. \n",
    "- To avoid re-ordering of the broken blocks, Cipher Block Chaining (CBC) must be used .Public key encryption schemes do not support message blocking and CBC mode ."
   ]
  },
  {
   "cell_type": "markdown",
   "metadata": {},
   "source": [
    "# RSA public-key encryption\n",
    "- The RSA cryptosystem is the most used public key cryptosystem and was named after its inventors R. Rivest, A. Shamir, and L. Adleman.\n",
    "- It's Security is based on the difficulty of Integer Factorization problem. \n",
    "- If an algorithm is discovered which can factor an arbitrary number , then it would render the RSA method insecure.\n",
    "\n",
    "### Algorithm: Key generation for RSA public-key encryption\n",
    "\n",
    " #### SUMMARY: Each entity creates an RSA public key and a corresponding private key.\n",
    " \n",
    " Each entity A should do the following:\n",
    " 1. Generate two large random (and distinct) primes $p$ and $q$, each roughly the same size.\n",
    " 2. Compute $n = pq$ and $φ = (p − 1)(q − 1)$.\n",
    " 3. Select a random integer $e, 1 <e<φ$, such that $\\gcd(e, φ)=1$.\n",
    " 4. Use the extended Euclidean algorithm to compute the unique integer $d, 1 <d<φ$, such that $ed ≡ 1\\pmod{φ}$.\n",
    " 5. A’s public key is $(n, e)$; A’s private key is $d$\n",
    " \n",
    "\n",
    "### Definition \n",
    "The integers $e$ and $d$ in RSA key generation are called the encryption exponent and the decryption exponent, respectively, while $n$ is called the modulus.\n",
    "\n",
    "### Algorithm RSA public-key \n",
    " \n",
    " #### SUMMARY: B encrypts a message $m$ for A, which A decrypts.\n",
    "\n",
    "1. Encryption. B should do the following:\n",
    "    1. Obtain A’s authentic public key $(n, e)$.\n",
    "    2. Represent the message as an integer $m$ in the interval $[0, n − 1]$.\n",
    "    3. Compute $c = m^e \\bmod{n}$ (e.g., using repeated squaring).\n",
    "    4. Send the ciphertext $c$ to A.\n",
    "\n",
    "2. Decryption. To recover plaintext m from c, A should do the following:\n",
    " (a) Use the private key d to recover $m = c^d \\bmod{n}$."
   ]
  },
  {
   "cell_type": "markdown",
   "metadata": {},
   "source": [
    "# Proof that decryption works. \n",
    "Since $ed ≡ 1 \\pmod {φ}$, there exists an integer $k$ such that $ed =1+ kφ$. Now, if $\\gcd(m, p)=1$ then by Fermat’s theorem,   \n",
    "$$m^{p−1} ≡ 1 \\pmod {p}$$  \n",
    "Raising both sides of this congruence to the power $k(q−1)$ and then multiplying both sides by $m$ yields  \n",
    "$$m^{1+k(p−1)(q−1)} ≡ m \\pmod {p}$$  \n",
    "On the other hand, if $\\gcd(m, p) = p$, then this last congruence is again valid since each side is congruent to $\\bmod {p}$.  Hence, in all cases  \n",
    "$$m^{ed} ≡ m \\pmod {p}$$  \n",
    "By the same argument,    \n",
    "$$m^{ed} ≡ m \\pmod {q})$$  \n",
    "Finally, since  $p$ and $q$ are distinct primes, it follows that  \n",
    "$$m^{ed} ≡ m \\pmod {n})$$  \n",
    "and hence,\n",
    "$$c^d ≡ (m^e)^d ≡ m \\pmod {n})$$\n",
    "\n",
    "## Example"
   ]
  },
  {
   "cell_type": "code",
   "execution_count": 3,
   "metadata": {},
   "outputs": [
    {
     "data": {
      "text/html": [
       "<html><script type=\"math/tex; mode=display\">\\newcommand{\\Bold}[1]{\\mathbf{#1}}\\verb|p=| 71</script></html>"
      ],
      "text/latex": [
       "\\begin{math}\n",
       "\\newcommand{\\Bold}[1]{\\mathbf{#1}}\\verb|p=| 71\n",
       "\\end{math}"
      ],
      "text/plain": [
       "'p=' 71"
      ]
     },
     "metadata": {},
     "output_type": "display_data"
    },
    {
     "data": {
      "text/html": [
       "<html><script type=\"math/tex; mode=display\">\\newcommand{\\Bold}[1]{\\mathbf{#1}}\\verb|q=| 23</script></html>"
      ],
      "text/latex": [
       "\\begin{math}\n",
       "\\newcommand{\\Bold}[1]{\\mathbf{#1}}\\verb|q=| 23\n",
       "\\end{math}"
      ],
      "text/plain": [
       "'q=' 23"
      ]
     },
     "metadata": {},
     "output_type": "display_data"
    },
    {
     "data": {
      "text/html": [
       "<html><script type=\"math/tex; mode=display\">\\newcommand{\\Bold}[1]{\\mathbf{#1}}\\verb|n=|\\phantom{\\verb!x!}\\verb|p*q|\\phantom{\\verb!x!}\\verb|=| 1633</script></html>"
      ],
      "text/latex": [
       "\\begin{math}\n",
       "\\newcommand{\\Bold}[1]{\\mathbf{#1}}\\verb|n=|\\phantom{\\verb!x!}\\verb|p*q|\\phantom{\\verb!x!}\\verb|=| 1633\n",
       "\\end{math}"
      ],
      "text/plain": [
       "'n= p*q =' 1633"
      ]
     },
     "metadata": {},
     "output_type": "display_data"
    },
    {
     "data": {
      "text/html": [
       "<html><script type=\"math/tex; mode=display\">\\newcommand{\\Bold}[1]{\\mathbf{#1}}\\verb|φ|\\phantom{\\verb!x!}\\verb|=|\\phantom{\\verb!x!}\\verb|(p-1)*(q-1)|\\phantom{\\verb!x!}\\verb|=| 1540</script></html>"
      ],
      "text/latex": [
       "\\begin{math}\n",
       "\\newcommand{\\Bold}[1]{\\mathbf{#1}}\\verb|φ|\\phantom{\\verb!x!}\\verb|=|\\phantom{\\verb!x!}\\verb|(p-1)*(q-1)|\\phantom{\\verb!x!}\\verb|=| 1540\n",
       "\\end{math}"
      ],
      "text/plain": [
       "'φ = (p-1)*(q-1) =' 1540"
      ]
     },
     "metadata": {},
     "output_type": "display_data"
    },
    {
     "data": {
      "text/html": [
       "<html><script type=\"math/tex; mode=display\">\\newcommand{\\Bold}[1]{\\mathbf{#1}}\\verb|gcd(e,φ)=| 1</script></html>"
      ],
      "text/latex": [
       "\\begin{math}\n",
       "\\newcommand{\\Bold}[1]{\\mathbf{#1}}\\verb|gcd(e,φ)=| 1\n",
       "\\end{math}"
      ],
      "text/plain": [
       "'gcd(e,φ)= ' 1"
      ]
     },
     "metadata": {},
     "output_type": "display_data"
    },
    {
     "data": {
      "text/html": [
       "<html><script type=\"math/tex; mode=display\">\\newcommand{\\Bold}[1]{\\mathbf{#1}}\\verb|Public|\\phantom{\\verb!x!}\\verb|Key|\\phantom{\\verb!x!}\\verb|of|\\phantom{\\verb!x!}\\verb|A|\\phantom{\\verb!x!}\\verb|:(n,e)|\\phantom{\\verb!x!}\\verb|=(1633,3)|</script></html>"
      ],
      "text/latex": [
       "\\begin{math}\n",
       "\\newcommand{\\Bold}[1]{\\mathbf{#1}}\\verb|Public|\\phantom{\\verb!x!}\\verb|Key|\\phantom{\\verb!x!}\\verb|of|\\phantom{\\verb!x!}\\verb|A|\\phantom{\\verb!x!}\\verb|:(n,e)|\\phantom{\\verb!x!}\\verb|=(1633,3)|\n",
       "\\end{math}"
      ],
      "text/plain": [
       "'Public Key of A :(n,e) =(1633,3)'"
      ]
     },
     "metadata": {},
     "output_type": "display_data"
    },
    {
     "data": {
      "text/html": [
       "<html><script type=\"math/tex; mode=display\">\\newcommand{\\Bold}[1]{\\mathbf{#1}}\\verb|message=| 11</script></html>"
      ],
      "text/latex": [
       "\\begin{math}\n",
       "\\newcommand{\\Bold}[1]{\\mathbf{#1}}\\verb|message=| 11\n",
       "\\end{math}"
      ],
      "text/plain": [
       "'message=' 11"
      ]
     },
     "metadata": {},
     "output_type": "display_data"
    },
    {
     "data": {
      "text/html": [
       "<html><script type=\"math/tex; mode=display\">\\newcommand{\\Bold}[1]{\\mathbf{#1}}\\verb|Private|\\phantom{\\verb!x!}\\verb|Key|\\phantom{\\verb!x!}\\verb|of|\\phantom{\\verb!x!}\\verb|A|\\phantom{\\verb!x!}\\verb|:d|\\phantom{\\verb!x!}\\verb|=| 1027</script></html>"
      ],
      "text/latex": [
       "\\begin{math}\n",
       "\\newcommand{\\Bold}[1]{\\mathbf{#1}}\\verb|Private|\\phantom{\\verb!x!}\\verb|Key|\\phantom{\\verb!x!}\\verb|of|\\phantom{\\verb!x!}\\verb|A|\\phantom{\\verb!x!}\\verb|:d|\\phantom{\\verb!x!}\\verb|=| 1027\n",
       "\\end{math}"
      ],
      "text/plain": [
       "'Private Key of A :d =' 1027"
      ]
     },
     "metadata": {},
     "output_type": "display_data"
    },
    {
     "data": {
      "text/html": [
       "<html><script type=\"math/tex; mode=display\">\\newcommand{\\Bold}[1]{\\mathbf{#1}}\\verb|Message|\\phantom{\\verb!x!}\\verb|before|\\phantom{\\verb!x!}\\verb|Encryption=| 11</script></html>"
      ],
      "text/latex": [
       "\\begin{math}\n",
       "\\newcommand{\\Bold}[1]{\\mathbf{#1}}\\verb|Message|\\phantom{\\verb!x!}\\verb|before|\\phantom{\\verb!x!}\\verb|Encryption=| 11\n",
       "\\end{math}"
      ],
      "text/plain": [
       "'Message before Encryption=' 11"
      ]
     },
     "metadata": {},
     "output_type": "display_data"
    },
    {
     "data": {
      "text/html": [
       "<html><script type=\"math/tex; mode=display\">\\newcommand{\\Bold}[1]{\\mathbf{#1}}\\verb|Encrypted|\\phantom{\\verb!x!}\\verb|Message|\\phantom{\\verb!x!}\\verb|c1=| 1331</script></html>"
      ],
      "text/latex": [
       "\\begin{math}\n",
       "\\newcommand{\\Bold}[1]{\\mathbf{#1}}\\verb|Encrypted|\\phantom{\\verb!x!}\\verb|Message|\\phantom{\\verb!x!}\\verb|c1=| 1331\n",
       "\\end{math}"
      ],
      "text/plain": [
       "'Encrypted Message c1=' 1331"
      ]
     },
     "metadata": {},
     "output_type": "display_data"
    },
    {
     "data": {
      "text/html": [
       "<html><script type=\"math/tex; mode=display\">\\newcommand{\\Bold}[1]{\\mathbf{#1}}\\verb|decrypted|\\phantom{\\verb!x!}\\verb|Message|\\phantom{\\verb!x!}\\verb|=| 11</script></html>"
      ],
      "text/latex": [
       "\\begin{math}\n",
       "\\newcommand{\\Bold}[1]{\\mathbf{#1}}\\verb|decrypted|\\phantom{\\verb!x!}\\verb|Message|\\phantom{\\verb!x!}\\verb|=| 11\n",
       "\\end{math}"
      ],
      "text/plain": [
       "'decrypted Message =' 11"
      ]
     },
     "metadata": {},
     "output_type": "display_data"
    }
   ],
   "source": [
    "# basic RSA\n",
    "p=random_prime(100)\n",
    "q=random_prime(100)\n",
    "e=3\n",
    "φ =(p-1)*(q-1)\n",
    "while((gcd(e, φ)!=1)):\n",
    "    p=random_prime(100)\n",
    "    q=random_prime(100)\n",
    "    φ =(p-1)*(q-1)\n",
    "n=p*q\n",
    "φ =(p-1)*(q-1)\n",
    "show(\"p=\",p)\n",
    "show(\"q=\",q)\n",
    "show(\"n= p*q =\",n)\n",
    "show(\"φ = (p-1)*(q-1) =\",φ)\n",
    "show(\"gcd(e,φ)= \",gcd(e, φ))\n",
    "d=e^-1 %φ\n",
    "show(\"Public Key of A :(n,e) =({},{})\".format(n,e))\n",
    "me=random_prime(100)\n",
    "show(\"message=\",me)\n",
    "c=me^e %n\n",
    "show(\"Private Key of A :d =\",d)\n",
    "show(\"Message before Encryption=\",me)\n",
    "show(\"Encrypted Message c1=\",c)\n",
    "de=c^d % n\n",
    "show(\"decrypted Message =\",de)"
   ]
  },
  {
   "cell_type": "code",
   "execution_count": 15,
   "metadata": {},
   "outputs": [
    {
     "data": {
      "text/html": [
       "<html><script type=\"math/tex; mode=display\">\\newcommand{\\Bold}[1]{\\mathbf{#1}}\\verb|p=| 17</script></html>"
      ],
      "text/latex": [
       "\\begin{math}\n",
       "\\newcommand{\\Bold}[1]{\\mathbf{#1}}\\verb|p=| 17\n",
       "\\end{math}"
      ],
      "text/plain": [
       "'p=' 17"
      ]
     },
     "metadata": {},
     "output_type": "display_data"
    },
    {
     "data": {
      "text/html": [
       "<html><script type=\"math/tex; mode=display\">\\newcommand{\\Bold}[1]{\\mathbf{#1}}\\verb|q=| 11</script></html>"
      ],
      "text/latex": [
       "\\begin{math}\n",
       "\\newcommand{\\Bold}[1]{\\mathbf{#1}}\\verb|q=| 11\n",
       "\\end{math}"
      ],
      "text/plain": [
       "'q=' 11"
      ]
     },
     "metadata": {},
     "output_type": "display_data"
    },
    {
     "data": {
      "text/html": [
       "<html><script type=\"math/tex; mode=display\">\\newcommand{\\Bold}[1]{\\mathbf{#1}}\\verb|n=|\\phantom{\\verb!x!}\\verb|p*q|\\phantom{\\verb!x!}\\verb|=| 187</script></html>"
      ],
      "text/latex": [
       "\\begin{math}\n",
       "\\newcommand{\\Bold}[1]{\\mathbf{#1}}\\verb|n=|\\phantom{\\verb!x!}\\verb|p*q|\\phantom{\\verb!x!}\\verb|=| 187\n",
       "\\end{math}"
      ],
      "text/plain": [
       "'n= p*q =' 187"
      ]
     },
     "metadata": {},
     "output_type": "display_data"
    },
    {
     "data": {
      "text/html": [
       "<html><script type=\"math/tex; mode=display\">\\newcommand{\\Bold}[1]{\\mathbf{#1}}\\verb|φ|\\phantom{\\verb!x!}\\verb|=|\\phantom{\\verb!x!}\\verb|(p-1)*(q-1)|\\phantom{\\verb!x!}\\verb|=| 160</script></html>"
      ],
      "text/latex": [
       "\\begin{math}\n",
       "\\newcommand{\\Bold}[1]{\\mathbf{#1}}\\verb|φ|\\phantom{\\verb!x!}\\verb|=|\\phantom{\\verb!x!}\\verb|(p-1)*(q-1)|\\phantom{\\verb!x!}\\verb|=| 160\n",
       "\\end{math}"
      ],
      "text/plain": [
       "'φ = (p-1)*(q-1) =' 160"
      ]
     },
     "metadata": {},
     "output_type": "display_data"
    },
    {
     "data": {
      "text/html": [
       "<html><script type=\"math/tex; mode=display\">\\newcommand{\\Bold}[1]{\\mathbf{#1}}\\verb|gcd(e,φ)=| 1</script></html>"
      ],
      "text/latex": [
       "\\begin{math}\n",
       "\\newcommand{\\Bold}[1]{\\mathbf{#1}}\\verb|gcd(e,φ)=| 1\n",
       "\\end{math}"
      ],
      "text/plain": [
       "'gcd(e,φ)= ' 1"
      ]
     },
     "metadata": {},
     "output_type": "display_data"
    },
    {
     "data": {
      "text/html": [
       "<html><script type=\"math/tex; mode=display\">\\newcommand{\\Bold}[1]{\\mathbf{#1}}\\verb|Public|\\phantom{\\verb!x!}\\verb|Key|\\phantom{\\verb!x!}\\verb|of|\\phantom{\\verb!x!}\\verb|A|\\phantom{\\verb!x!}\\verb|:(n,e)|\\phantom{\\verb!x!}\\verb|=(187,3)|</script></html>"
      ],
      "text/latex": [
       "\\begin{math}\n",
       "\\newcommand{\\Bold}[1]{\\mathbf{#1}}\\verb|Public|\\phantom{\\verb!x!}\\verb|Key|\\phantom{\\verb!x!}\\verb|of|\\phantom{\\verb!x!}\\verb|A|\\phantom{\\verb!x!}\\verb|:(n,e)|\\phantom{\\verb!x!}\\verb|=(187,3)|\n",
       "\\end{math}"
      ],
      "text/plain": [
       "'Public Key of A :(n,e) =(187,3)'"
      ]
     },
     "metadata": {},
     "output_type": "display_data"
    },
    {
     "data": {
      "text/html": [
       "<html><script type=\"math/tex; mode=display\">\\newcommand{\\Bold}[1]{\\mathbf{#1}}\\verb|x=| 5</script></html>"
      ],
      "text/latex": [
       "\\begin{math}\n",
       "\\newcommand{\\Bold}[1]{\\mathbf{#1}}\\verb|x=| 5\n",
       "\\end{math}"
      ],
      "text/plain": [
       "'x=' 5"
      ]
     },
     "metadata": {},
     "output_type": "display_data"
    },
    {
     "data": {
      "text/html": [
       "<html><script type=\"math/tex; mode=display\">\\newcommand{\\Bold}[1]{\\mathbf{#1}}\\verb|me=| 23</script></html>"
      ],
      "text/latex": [
       "\\begin{math}\n",
       "\\newcommand{\\Bold}[1]{\\mathbf{#1}}\\verb|me=| 23\n",
       "\\end{math}"
      ],
      "text/plain": [
       "'me=' 23"
      ]
     },
     "metadata": {},
     "output_type": "display_data"
    },
    {
     "data": {
      "text/html": [
       "<html><script type=\"math/tex; mode=display\">\\newcommand{\\Bold}[1]{\\mathbf{#1}}\\verb|inv=| 5</script></html>"
      ],
      "text/latex": [
       "\\begin{math}\n",
       "\\newcommand{\\Bold}[1]{\\mathbf{#1}}\\verb|inv=| 5\n",
       "\\end{math}"
      ],
      "text/plain": [
       "'inv=' 5"
      ]
     },
     "metadata": {},
     "output_type": "display_data"
    },
    {
     "data": {
      "text/html": [
       "<html><script type=\"math/tex; mode=display\">\\newcommand{\\Bold}[1]{\\mathbf{#1}}\\verb|cm=| 12</script></html>"
      ],
      "text/latex": [
       "\\begin{math}\n",
       "\\newcommand{\\Bold}[1]{\\mathbf{#1}}\\verb|cm=| 12\n",
       "\\end{math}"
      ],
      "text/plain": [
       "'cm=' 12"
      ]
     },
     "metadata": {},
     "output_type": "display_data"
    },
    {
     "data": {
      "text/html": [
       "<html><script type=\"math/tex; mode=display\">\\newcommand{\\Bold}[1]{\\mathbf{#1}}\\verb|cx=| 125</script></html>"
      ],
      "text/latex": [
       "\\begin{math}\n",
       "\\newcommand{\\Bold}[1]{\\mathbf{#1}}\\verb|cx=| 125\n",
       "\\end{math}"
      ],
      "text/plain": [
       "'cx=' 125"
      ]
     },
     "metadata": {},
     "output_type": "display_data"
    },
    {
     "data": {
      "text/html": [
       "<html><script type=\"math/tex; mode=display\">\\newcommand{\\Bold}[1]{\\mathbf{#1}}\\verb|Private|\\phantom{\\verb!x!}\\verb|Key|\\phantom{\\verb!x!}\\verb|of|\\phantom{\\verb!x!}\\verb|A|\\phantom{\\verb!x!}\\verb|:d|\\phantom{\\verb!x!}\\verb|=| 107</script></html>"
      ],
      "text/latex": [
       "\\begin{math}\n",
       "\\newcommand{\\Bold}[1]{\\mathbf{#1}}\\verb|Private|\\phantom{\\verb!x!}\\verb|Key|\\phantom{\\verb!x!}\\verb|of|\\phantom{\\verb!x!}\\verb|A|\\phantom{\\verb!x!}\\verb|:d|\\phantom{\\verb!x!}\\verb|=| 107\n",
       "\\end{math}"
      ],
      "text/plain": [
       "'Private Key of A :d =' 107"
      ]
     },
     "metadata": {},
     "output_type": "display_data"
    },
    {
     "data": {
      "text/html": [
       "<html><script type=\"math/tex; mode=display\">\\newcommand{\\Bold}[1]{\\mathbf{#1}}\\verb|Message|\\phantom{\\verb!x!}\\verb|before|\\phantom{\\verb!x!}\\verb|Encryption=| 115</script></html>"
      ],
      "text/latex": [
       "\\begin{math}\n",
       "\\newcommand{\\Bold}[1]{\\mathbf{#1}}\\verb|Message|\\phantom{\\verb!x!}\\verb|before|\\phantom{\\verb!x!}\\verb|Encryption=| 115\n",
       "\\end{math}"
      ],
      "text/plain": [
       "'Message before Encryption=' 115"
      ]
     },
     "metadata": {},
     "output_type": "display_data"
    },
    {
     "data": {
      "text/html": [
       "<html><script type=\"math/tex; mode=display\">\\newcommand{\\Bold}[1]{\\mathbf{#1}}\\verb|Encrypted|\\phantom{\\verb!x!}\\verb|Message|\\phantom{\\verb!x!}\\verb|c1=| 4</script></html>"
      ],
      "text/latex": [
       "\\begin{math}\n",
       "\\newcommand{\\Bold}[1]{\\mathbf{#1}}\\verb|Encrypted|\\phantom{\\verb!x!}\\verb|Message|\\phantom{\\verb!x!}\\verb|c1=| 4\n",
       "\\end{math}"
      ],
      "text/plain": [
       "'Encrypted Message c1=' 4"
      ]
     },
     "metadata": {},
     "output_type": "display_data"
    },
    {
     "data": {
      "text/html": [
       "<html><script type=\"math/tex; mode=display\">\\newcommand{\\Bold}[1]{\\mathbf{#1}}\\verb|decrypted|\\phantom{\\verb!x!}\\verb|Message|\\phantom{\\verb!x!}\\verb|=| 115</script></html>"
      ],
      "text/latex": [
       "\\begin{math}\n",
       "\\newcommand{\\Bold}[1]{\\mathbf{#1}}\\verb|decrypted|\\phantom{\\verb!x!}\\verb|Message|\\phantom{\\verb!x!}\\verb|=| 115\n",
       "\\end{math}"
      ],
      "text/plain": [
       "'decrypted Message =' 115"
      ]
     },
     "metadata": {},
     "output_type": "display_data"
    },
    {
     "data": {
      "text/html": [
       "<html><script type=\"math/tex; mode=display\">\\newcommand{\\Bold}[1]{\\mathbf{#1}}14</script></html>"
      ],
      "text/latex": [
       "\\begin{math}\n",
       "\\newcommand{\\Bold}[1]{\\mathbf{#1}}14\n",
       "\\end{math}"
      ],
      "text/plain": [
       "14"
      ]
     },
     "metadata": {},
     "output_type": "display_data"
    }
   ],
   "source": [
    "# Blinding Attack\n",
    "def invmod(a, n): \n",
    "    b=0\n",
    "    while(b<n):\n",
    "        if(a*b==1%n):\n",
    "            return b\n",
    "        else:\n",
    "            b+=1;\n",
    "p=random_prime(100)\n",
    "q=random_prime(100)\n",
    "e=3\n",
    "φ =(p-1)*(q-1)\n",
    "while((gcd(e, φ)!=1)):\n",
    "    p=random_prime(100)\n",
    "    q=random_prime(100)\n",
    "    φ =(p-1)*(q-1)\n",
    "n=p*q\n",
    "φ =(p-1)*(q-1)\n",
    "show(\"p=\",p)\n",
    "show(\"q=\",q)\n",
    "show(\"n= p*q =\",n)\n",
    "show(\"φ = (p-1)*(q-1) =\",φ)\n",
    "show(\"gcd(e,φ)= \",gcd(e, φ))\n",
    "d=e^-1 %φ\n",
    "show(\"Public Key of A :(n,e) =({},{})\".format(n,e))\n",
    "me=random_prime(100)\n",
    "x=random_prime(10)\n",
    "show(\"x=\",x)\n",
    "show(\"me=\",me)\n",
    "m=me*x\n",
    "cm=me^e %n\n",
    "cx=x^e%n\n",
    "R = IntegerModRing(n)\n",
    "xinv=R(x)\n",
    "show(\"inv=\",xinv)\n",
    "show(\"cm=\",cm)\n",
    "show(\"cx=\",cx)\n",
    "c=cm*cx%n\n",
    "show(\"Private Key of A :d =\",d)\n",
    "show(\"Message before Encryption=\",m)\n",
    "show(\"Encrypted Message c1=\",c)\n",
    "de=c^d % n\n",
    "show(\"decrypted Message =\",de)\n",
    "show(de*xinv)"
   ]
  },
  {
   "cell_type": "code",
   "execution_count": null,
   "metadata": {},
   "outputs": [],
   "source": [
    "# Hastad's Broadcast Attack\n",
    "# step 1: take 2 prime numbers\n",
    "p=random_prime(100)\n",
    "q=random_prime(100)\n",
    "p2=random_prime(100)\n",
    "q2=random_prime(100)\n",
    "p3=random_prime(100)\n",
    "q3=random_prime(100)\n",
    "e=3\n",
    "φ =(p-1)*(q-1)\n",
    "φ2 =(p2-1)*(q2-1)\n",
    "φ3 =(p3-1)*(q3-1)\n",
    "n=p*q\n",
    "n2=p2*q2\n",
    "n3=p3*q3\n",
    "while((gcd(e, φ)!=1)):\n",
    "    p=random_prime(100)\n",
    "    q=random_prime(100)\n",
    "    n=p*q\n",
    "    φ =(p-1)*(q-1)\n",
    "while((gcd(e, φ2)!=1)):\n",
    "    p2=random_prime(100)\n",
    "    q2=random_prime(100)\n",
    "    n2=p2*q2\n",
    "    φ2 =(p2-1)*(q2-1)\n",
    "while((gcd(e, φ3)!=1)):\n",
    "    p3=random_prime(100)\n",
    "    q3=random_prime(100)\n",
    "    n3=p3*q3\n",
    "    φ3 =(p3-1)*(q3-1)\n",
    "\n",
    "show(\"p=\",p)\n",
    "show(\"q=\",q)\n",
    "show(\"p2=\",p2)\n",
    "show(\"q2=\",q2)\n",
    "show(\"p3=\",p3)\n",
    "show(\"q3=\",q3)\n",
    "# step 2: compute n and φ\n",
    "\n",
    "\n",
    "show(\"n= p*q =\",n)\n",
    "show(\"φ = (p-1)*(q-1) =\",φ)\n",
    "\n",
    "\n",
    "show(\"n2= p2*q2 =\",n2)\n",
    "show(\"φ2 = (p2-1)*(q2-1) =\",φ2)\n",
    "\n",
    "\n",
    "show(\"n3= p3*q3 =\",n3)\n",
    "show(\"φ3 = (p3-1)*(q3-1) =\",φ3)\n",
    "# step 3: Choose e such that gcd(e,φ)\n",
    "#e=random_prime(10000)\n",
    "\n",
    "e=3\n",
    "show(\"gcd(e,φ)= \",gcd(e, φ))\n",
    "show(\"gcd(e,φ)= \",gcd(e, φ2))\n",
    "show(\"gcd(e,φ)= \",gcd(e, φ3))\n",
    "# step 4: Compute d such that de=1 modφ\n",
    "#d=e^-1 %φ\n",
    "##d2=e^-1 %φ2\n",
    "#d3=e^-1 %φ3\n",
    "#show(\"d =\",d)\n",
    "#show(\"d2 =\",d2)\n",
    "#show(\"d3 =\",d3)\n",
    "# step 5: declare the public and private keys\n",
    "show(\"Public Key of A :(n,e) =({},{})\".format(n,e))\n",
    "#show(\"Private Key of A :d =\",d)\n",
    "# step 6: perform encryption of the message m to get ciphertext c\n",
    "m=random_prime(100)\n",
    "c=m^e %n\n",
    "c2=m^e %n2\n",
    "c3=m^e %n3\n",
    "show(\"N=\",n*n2*n3)\n",
    "show((m^3)<(n*n2*n3))\n",
    "show(\"Message before Encryption=\",m)\n",
    "show(\"Encrypted Message c1=\",c)\n",
    "show(\"Encrypted Message c2=\",c2)\n",
    "show(\"Encrypted Message c3=\",c3)\n",
    "# step 7: perform decryption on the ciphertext to get the plaintext de\n",
    "z = CRT_list([c,c2,c3],[n,n2,n3])\n",
    "show(\"solution= \",z)\n",
    "AB=z^(1/3)\n",
    "show(\"fifth root=\",AB)\n",
    "#de=c^d % n\n",
    "#show(\"Decrypted message =\",de)"
   ]
  },
  {
   "cell_type": "code",
   "execution_count": null,
   "metadata": {},
   "outputs": [],
   "source": [
    "# Franklin-Reiter Related Message Attack\n",
    "p =433 \n",
    "q = 953\n",
    "show(\"p=\",p)\n",
    "show(\"q=\",q)\n",
    "n = p * q # 1024-bit modulus\n",
    "show(\"n=\",n)\n",
    "m = 133075 # some message we want to recover\n",
    "show(\"m=\",m)\n",
    "r = 217827 # random padding\n",
    "show(\"r=\",r)\n",
    "\n",
    "c1 = pow(m + 0, 3, n)\n",
    "show(\"c1=\",c1)\n",
    "c2 = pow(m + r, 3, n)\n",
    "show(\"c2=\",c2)\n",
    "R.<X> = Zmod(n)[]\n",
    "show(X)\n",
    "f1 = X^3 - c1\n",
    "show(\"f1=\",f1)\n",
    "f2 = (X + r)^3 - c2\n",
    "show(\"f2=\",f2)\n",
    "# GCD is not implemented for rings over composite modulus in Sage\n",
    "# so we'll do it ourselves. Might fail in rare cases, but we\n",
    "# don't care.\n",
    "def my_gcd(a, b): \n",
    "    return a.monic() if b == 0 else my_gcd(b, a % b)\n",
    "\n",
    "show(m)\n",
    "show(my_gcd(f1,f2))\n",
    "show(my_gcd(f1, f2).coefficients())\n",
    "show(-my_gcd(f1, f2).coefficients()[0]) # coefficient 0 = -m\n",
    "show(my_gcd(f1, f2).coefficients()[0])"
   ]
  }
 ],
 "metadata": {
  "kernelspec": {
   "display_name": "SageMath 9.2",
   "language": "sage",
   "name": "sagemath"
  },
  "language_info": {
   "codemirror_mode": {
    "name": "ipython",
    "version": 3
   },
   "file_extension": ".py",
   "mimetype": "text/x-python",
   "name": "python",
   "nbconvert_exporter": "python",
   "pygments_lexer": "ipython3",
   "version": "3.7.7"
  }
 },
 "nbformat": 4,
 "nbformat_minor": 4
}
